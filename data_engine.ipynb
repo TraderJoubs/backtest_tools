{
 "cells": [
  {
   "cell_type": "code",
   "execution_count": 1,
   "metadata": {},
   "outputs": [
    {
     "name": "stderr",
     "output_type": "stream",
     "text": [
      "C:\\Users\\simon\\AppData\\Local\\Packages\\PythonSoftwareFoundation.Python.3.11_qbz5n2kfra8p0\\LocalCache\\local-packages\\Python311\\site-packages\\tqdm\\auto.py:21: TqdmWarning: IProgress not found. Please update jupyter and ipywidgets. See https://ipywidgets.readthedocs.io/en/stable/user_install.html\n",
      "  from .autonotebook import tqdm as notebook_tqdm\n"
     ]
    },
    {
     "name": "stdout",
     "output_type": "stream",
     "text": [
      "\tRécupération pour la paire BTC/USDT en timeframe 1h sur l'exchange binance...\n"
     ]
    },
    {
     "name": "stderr",
     "output_type": "stream",
     "text": [
      "100%|██████████| 64/64 [00:04<00:00, 15.31it/s]\n"
     ]
    },
    {
     "name": "stdout",
     "output_type": "stream",
     "text": [
      "\tRécupération pour la paire ETH/USDT en timeframe 1h sur l'exchange binance...\n"
     ]
    },
    {
     "name": "stderr",
     "output_type": "stream",
     "text": [
      "100%|██████████| 64/64 [00:02<00:00, 25.64it/s]\n"
     ]
    },
    {
     "name": "stdout",
     "output_type": "stream",
     "text": [
      "\tRécupération pour la paire BNB/USDT en timeframe 1h sur l'exchange binance...\n"
     ]
    },
    {
     "name": "stderr",
     "output_type": "stream",
     "text": [
      "100%|██████████| 64/64 [00:02<00:00, 28.95it/s]\n"
     ]
    },
    {
     "name": "stdout",
     "output_type": "stream",
     "text": [
      "\tRécupération pour la paire XRP/USDT en timeframe 1h sur l'exchange binance...\n"
     ]
    },
    {
     "name": "stderr",
     "output_type": "stream",
     "text": [
      "100%|██████████| 64/64 [00:02<00:00, 25.11it/s]\n"
     ]
    },
    {
     "name": "stdout",
     "output_type": "stream",
     "text": [
      "\tRécupération pour la paire DOGE/USDT en timeframe 1h sur l'exchange binance...\n"
     ]
    },
    {
     "name": "stderr",
     "output_type": "stream",
     "text": [
      "100%|██████████| 64/64 [00:02<00:00, 27.98it/s]\n"
     ]
    },
    {
     "name": "stdout",
     "output_type": "stream",
     "text": [
      "\tRécupération pour la paire ADA/USDT en timeframe 1h sur l'exchange binance...\n"
     ]
    },
    {
     "name": "stderr",
     "output_type": "stream",
     "text": [
      "100%|██████████| 64/64 [00:02<00:00, 26.11it/s]\n"
     ]
    },
    {
     "name": "stdout",
     "output_type": "stream",
     "text": [
      "\tRécupération pour la paire MATIC/USDT en timeframe 1h sur l'exchange binance...\n"
     ]
    },
    {
     "name": "stderr",
     "output_type": "stream",
     "text": [
      "100%|██████████| 64/64 [00:02<00:00, 28.06it/s]\n"
     ]
    },
    {
     "name": "stdout",
     "output_type": "stream",
     "text": [
      "\tRécupération pour la paire DOT/USDT en timeframe 1h sur l'exchange binance...\n"
     ]
    },
    {
     "name": "stderr",
     "output_type": "stream",
     "text": [
      "100%|██████████| 64/64 [00:02<00:00, 25.54it/s]\n"
     ]
    },
    {
     "name": "stdout",
     "output_type": "stream",
     "text": [
      "\tRécupération pour la paire SHIB/USDT en timeframe 1h sur l'exchange binance...\n"
     ]
    },
    {
     "name": "stderr",
     "output_type": "stream",
     "text": [
      "100%|██████████| 64/64 [00:02<00:00, 28.68it/s]\n"
     ]
    },
    {
     "name": "stdout",
     "output_type": "stream",
     "text": [
      "\tRécupération pour la paire LTC/USDT en timeframe 1h sur l'exchange binance...\n"
     ]
    },
    {
     "name": "stderr",
     "output_type": "stream",
     "text": [
      "100%|██████████| 64/64 [00:02<00:00, 25.55it/s]\n"
     ]
    },
    {
     "name": "stdout",
     "output_type": "stream",
     "text": [
      "\tRécupération pour la paire TRX/USDT en timeframe 1h sur l'exchange binance...\n"
     ]
    },
    {
     "name": "stderr",
     "output_type": "stream",
     "text": [
      "100%|██████████| 64/64 [00:02<00:00, 31.72it/s]\n"
     ]
    },
    {
     "name": "stdout",
     "output_type": "stream",
     "text": [
      "\tRécupération pour la paire SOL/USDT en timeframe 1h sur l'exchange binance...\n"
     ]
    },
    {
     "name": "stderr",
     "output_type": "stream",
     "text": [
      "100%|██████████| 64/64 [00:02<00:00, 29.31it/s]\n"
     ]
    },
    {
     "name": "stdout",
     "output_type": "stream",
     "text": [
      "\tRécupération pour la paire AVAX/USDT en timeframe 1h sur l'exchange binance...\n"
     ]
    },
    {
     "name": "stderr",
     "output_type": "stream",
     "text": [
      "100%|██████████| 64/64 [00:02<00:00, 31.37it/s]\n"
     ]
    },
    {
     "name": "stdout",
     "output_type": "stream",
     "text": [
      "\tRécupération pour la paire LINK/USDT en timeframe 1h sur l'exchange binance...\n"
     ]
    },
    {
     "name": "stderr",
     "output_type": "stream",
     "text": [
      "100%|██████████| 64/64 [00:02<00:00, 31.94it/s]\n"
     ]
    },
    {
     "name": "stdout",
     "output_type": "stream",
     "text": [
      "\tRécupération pour la paire ATOM/USDT en timeframe 1h sur l'exchange binance...\n"
     ]
    },
    {
     "name": "stderr",
     "output_type": "stream",
     "text": [
      "100%|██████████| 64/64 [00:02<00:00, 30.74it/s]\n"
     ]
    },
    {
     "name": "stdout",
     "output_type": "stream",
     "text": [
      "\tRécupération pour la paire ETC/USDT en timeframe 1h sur l'exchange binance...\n"
     ]
    },
    {
     "name": "stderr",
     "output_type": "stream",
     "text": [
      "100%|██████████| 64/64 [00:02<00:00, 30.62it/s]\n"
     ]
    },
    {
     "name": "stdout",
     "output_type": "stream",
     "text": [
      "\tRécupération pour la paire BCH/USDT en timeframe 1h sur l'exchange binance...\n"
     ]
    },
    {
     "name": "stderr",
     "output_type": "stream",
     "text": [
      "100%|██████████| 64/64 [00:02<00:00, 31.12it/s]\n"
     ]
    },
    {
     "name": "stdout",
     "output_type": "stream",
     "text": [
      "\tRécupération pour la paire FIL/USDT en timeframe 1h sur l'exchange binance...\n"
     ]
    },
    {
     "name": "stderr",
     "output_type": "stream",
     "text": [
      "100%|██████████| 64/64 [00:01<00:00, 35.08it/s]\n"
     ]
    },
    {
     "name": "stdout",
     "output_type": "stream",
     "text": [
      "\tRécupération pour la paire APE/USDT en timeframe 1h sur l'exchange binance...\n"
     ]
    },
    {
     "name": "stderr",
     "output_type": "stream",
     "text": [
      "100%|██████████| 64/64 [00:02<00:00, 27.82it/s]\n"
     ]
    },
    {
     "name": "stdout",
     "output_type": "stream",
     "text": [
      "\tRécupération pour la paire VET/USDT en timeframe 1h sur l'exchange binance...\n"
     ]
    },
    {
     "name": "stderr",
     "output_type": "stream",
     "text": [
      "100%|██████████| 64/64 [00:02<00:00, 24.60it/s]\n"
     ]
    },
    {
     "name": "stdout",
     "output_type": "stream",
     "text": [
      "\tRécupération pour la paire EGLD/USDT en timeframe 1h sur l'exchange binance...\n"
     ]
    },
    {
     "name": "stderr",
     "output_type": "stream",
     "text": [
      "100%|██████████| 64/64 [00:02<00:00, 25.34it/s]\n"
     ]
    },
    {
     "name": "stdout",
     "output_type": "stream",
     "text": [
      "\tRécupération pour la paire EOS/USDT en timeframe 1h sur l'exchange binance...\n"
     ]
    },
    {
     "name": "stderr",
     "output_type": "stream",
     "text": [
      "100%|██████████| 64/64 [00:02<00:00, 25.28it/s]\n"
     ]
    },
    {
     "name": "stdout",
     "output_type": "stream",
     "text": [
      "\tRécupération pour la paire SAND/USDT en timeframe 1h sur l'exchange binance...\n"
     ]
    },
    {
     "name": "stderr",
     "output_type": "stream",
     "text": [
      "100%|██████████| 64/64 [00:02<00:00, 25.03it/s]\n"
     ]
    },
    {
     "name": "stdout",
     "output_type": "stream",
     "text": [
      "\tRécupération pour la paire CHZ/USDT en timeframe 1h sur l'exchange binance...\n"
     ]
    },
    {
     "name": "stderr",
     "output_type": "stream",
     "text": [
      "100%|██████████| 64/64 [00:03<00:00, 21.14it/s]\n"
     ]
    },
    {
     "name": "stdout",
     "output_type": "stream",
     "text": [
      "\tRécupération pour la paire AAVE/USDT en timeframe 1h sur l'exchange binance...\n"
     ]
    },
    {
     "name": "stderr",
     "output_type": "stream",
     "text": [
      "100%|██████████| 64/64 [00:02<00:00, 30.35it/s]\n"
     ]
    },
    {
     "name": "stdout",
     "output_type": "stream",
     "text": [
      "\tRécupération pour la paire AXS/USDT en timeframe 1h sur l'exchange binance...\n"
     ]
    },
    {
     "name": "stderr",
     "output_type": "stream",
     "text": [
      "100%|██████████| 64/64 [00:02<00:00, 27.17it/s]\n"
     ]
    },
    {
     "name": "stdout",
     "output_type": "stream",
     "text": [
      "\tRécupération pour la paire MANA/USDT en timeframe 1h sur l'exchange binance...\n"
     ]
    },
    {
     "name": "stderr",
     "output_type": "stream",
     "text": [
      "100%|██████████| 64/64 [00:02<00:00, 28.44it/s]\n"
     ]
    },
    {
     "name": "stdout",
     "output_type": "stream",
     "text": [
      "\tRécupération pour la paire CAKE/USDT en timeframe 1h sur l'exchange binance...\n"
     ]
    },
    {
     "name": "stderr",
     "output_type": "stream",
     "text": [
      "100%|██████████| 64/64 [00:02<00:00, 29.27it/s]\n"
     ]
    },
    {
     "name": "stdout",
     "output_type": "stream",
     "text": [
      "\tRécupération pour la paire FTM/USDT en timeframe 1h sur l'exchange binance...\n"
     ]
    },
    {
     "name": "stderr",
     "output_type": "stream",
     "text": [
      "100%|██████████| 64/64 [00:02<00:00, 24.79it/s]\n"
     ]
    },
    {
     "name": "stdout",
     "output_type": "stream",
     "text": [
      "\tRécupération pour la paire MKR/USDT en timeframe 1h sur l'exchange binance...\n"
     ]
    },
    {
     "name": "stderr",
     "output_type": "stream",
     "text": [
      "100%|██████████| 64/64 [00:02<00:00, 31.72it/s]\n"
     ]
    },
    {
     "name": "stdout",
     "output_type": "stream",
     "text": [
      "\tRécupération pour la paire GRT/USDT en timeframe 1h sur l'exchange binance...\n"
     ]
    },
    {
     "name": "stderr",
     "output_type": "stream",
     "text": [
      "100%|██████████| 64/64 [00:02<00:00, 31.67it/s]\n"
     ]
    }
   ],
   "source": [
    "import sys\n",
    "sys.path.append('./')\n",
    "from utilities.data_manager import ExchangeDataManager\n",
    "\n",
    "exchange_name = \"binance\"\n",
    "\n",
    "intervals = [\"1h\"]\n",
    "\n",
    "# coin_to_dl = [\"BTC/USDT\", \"ETH/USDT\", \"BNB/USDT\", \"XRP/USDT\", \"SOL/USDT\"]\n",
    "coin_to_dl = ['BTC/USDT', 'ETH/USDT', 'BNB/USDT', 'XRP/USDT', 'DOGE/USDT', 'ADA/USDT', 'MATIC/USDT', 'DOT/USDT', 'SHIB/USDT', 'LTC/USDT', 'TRX/USDT', 'SOL/USDT', 'AVAX/USDT', 'LINK/USDT', 'ATOM/USDT', 'ETC/USDT', 'BCH/USDT', 'FIL/USDT', 'APE/USDT', 'VET/USDT', 'EGLD/USDT', 'EOS/USDT', 'SAND/USDT', 'CHZ/USDT', 'AAVE/USDT', 'AXS/USDT', 'MANA/USDT', 'CAKE/USDT', 'FTM/USDT', 'MKR/USDT', 'GRT/USDT']\n",
    "\n",
    "exchange = ExchangeDataManager(\n",
    "    exchange_name=exchange_name, \n",
    "    path_download=\"./database/exchanges\"\n",
    ")\n",
    "\n",
    "await exchange.download_data(\n",
    "    coins=coin_to_dl, \n",
    "    intervals=intervals\n",
    ")"
   ]
  },
  {
   "cell_type": "code",
   "execution_count": 2,
   "metadata": {},
   "outputs": [
    {
     "data": {
      "text/html": [
       "<div>\n",
       "<style scoped>\n",
       "    .dataframe tbody tr th:only-of-type {\n",
       "        vertical-align: middle;\n",
       "    }\n",
       "\n",
       "    .dataframe tbody tr th {\n",
       "        vertical-align: top;\n",
       "    }\n",
       "\n",
       "    .dataframe thead th {\n",
       "        text-align: right;\n",
       "    }\n",
       "</style>\n",
       "<table border=\"1\" class=\"dataframe\">\n",
       "  <thead>\n",
       "    <tr style=\"text-align: right;\">\n",
       "      <th></th>\n",
       "      <th>open</th>\n",
       "      <th>high</th>\n",
       "      <th>low</th>\n",
       "      <th>close</th>\n",
       "      <th>volume</th>\n",
       "    </tr>\n",
       "    <tr>\n",
       "      <th>date</th>\n",
       "      <th></th>\n",
       "      <th></th>\n",
       "      <th></th>\n",
       "      <th></th>\n",
       "      <th></th>\n",
       "    </tr>\n",
       "  </thead>\n",
       "  <tbody>\n",
       "    <tr>\n",
       "      <th>2017-08-17 04:00:00</th>\n",
       "      <td>4261.48</td>\n",
       "      <td>4313.62</td>\n",
       "      <td>4261.32</td>\n",
       "      <td>4308.83</td>\n",
       "      <td>47.181009</td>\n",
       "    </tr>\n",
       "    <tr>\n",
       "      <th>2017-08-17 05:00:00</th>\n",
       "      <td>4308.83</td>\n",
       "      <td>4328.69</td>\n",
       "      <td>4291.37</td>\n",
       "      <td>4315.32</td>\n",
       "      <td>23.234916</td>\n",
       "    </tr>\n",
       "    <tr>\n",
       "      <th>2017-08-17 06:00:00</th>\n",
       "      <td>4330.29</td>\n",
       "      <td>4345.45</td>\n",
       "      <td>4309.37</td>\n",
       "      <td>4324.35</td>\n",
       "      <td>7.229691</td>\n",
       "    </tr>\n",
       "    <tr>\n",
       "      <th>2017-08-17 07:00:00</th>\n",
       "      <td>4316.62</td>\n",
       "      <td>4349.99</td>\n",
       "      <td>4287.41</td>\n",
       "      <td>4349.99</td>\n",
       "      <td>4.443249</td>\n",
       "    </tr>\n",
       "    <tr>\n",
       "      <th>2017-08-17 08:00:00</th>\n",
       "      <td>4333.32</td>\n",
       "      <td>4377.85</td>\n",
       "      <td>4333.32</td>\n",
       "      <td>4360.69</td>\n",
       "      <td>0.972807</td>\n",
       "    </tr>\n",
       "    <tr>\n",
       "      <th>...</th>\n",
       "      <td>...</td>\n",
       "      <td>...</td>\n",
       "      <td>...</td>\n",
       "      <td>...</td>\n",
       "      <td>...</td>\n",
       "    </tr>\n",
       "    <tr>\n",
       "      <th>2023-03-01 08:00:00</th>\n",
       "      <td>23716.06</td>\n",
       "      <td>24000.00</td>\n",
       "      <td>23681.81</td>\n",
       "      <td>23867.78</td>\n",
       "      <td>15049.103380</td>\n",
       "    </tr>\n",
       "    <tr>\n",
       "      <th>2023-03-01 09:00:00</th>\n",
       "      <td>23869.01</td>\n",
       "      <td>23907.68</td>\n",
       "      <td>23725.07</td>\n",
       "      <td>23756.14</td>\n",
       "      <td>13185.749310</td>\n",
       "    </tr>\n",
       "    <tr>\n",
       "      <th>2023-03-01 10:00:00</th>\n",
       "      <td>23755.74</td>\n",
       "      <td>23787.46</td>\n",
       "      <td>23673.44</td>\n",
       "      <td>23777.62</td>\n",
       "      <td>9259.781510</td>\n",
       "    </tr>\n",
       "    <tr>\n",
       "      <th>2023-03-01 11:00:00</th>\n",
       "      <td>23777.62</td>\n",
       "      <td>23788.40</td>\n",
       "      <td>23700.00</td>\n",
       "      <td>23739.17</td>\n",
       "      <td>8099.119460</td>\n",
       "    </tr>\n",
       "    <tr>\n",
       "      <th>2023-03-01 12:00:00</th>\n",
       "      <td>23739.87</td>\n",
       "      <td>23820.51</td>\n",
       "      <td>23701.09</td>\n",
       "      <td>23722.60</td>\n",
       "      <td>9882.626220</td>\n",
       "    </tr>\n",
       "  </tbody>\n",
       "</table>\n",
       "<p>48410 rows × 5 columns</p>\n",
       "</div>"
      ],
      "text/plain": [
       "                         open      high       low     close        volume\n",
       "date                                                                     \n",
       "2017-08-17 04:00:00   4261.48   4313.62   4261.32   4308.83     47.181009\n",
       "2017-08-17 05:00:00   4308.83   4328.69   4291.37   4315.32     23.234916\n",
       "2017-08-17 06:00:00   4330.29   4345.45   4309.37   4324.35      7.229691\n",
       "2017-08-17 07:00:00   4316.62   4349.99   4287.41   4349.99      4.443249\n",
       "2017-08-17 08:00:00   4333.32   4377.85   4333.32   4360.69      0.972807\n",
       "...                       ...       ...       ...       ...           ...\n",
       "2023-03-01 08:00:00  23716.06  24000.00  23681.81  23867.78  15049.103380\n",
       "2023-03-01 09:00:00  23869.01  23907.68  23725.07  23756.14  13185.749310\n",
       "2023-03-01 10:00:00  23755.74  23787.46  23673.44  23777.62   9259.781510\n",
       "2023-03-01 11:00:00  23777.62  23788.40  23700.00  23739.17   8099.119460\n",
       "2023-03-01 12:00:00  23739.87  23820.51  23701.09  23722.60   9882.626220\n",
       "\n",
       "[48410 rows x 5 columns]"
      ]
     },
     "execution_count": 2,
     "metadata": {},
     "output_type": "execute_result"
    }
   ],
   "source": [
    "exchange_name = \"binance\"\n",
    "\n",
    "exchange = ExchangeDataManager(\n",
    "    exchange_name=exchange_name, \n",
    "    path_download=\"./database/exchanges\"\n",
    ")\n",
    "\n",
    "exchange.load_data(\n",
    "    coin=\"BTC/USDT\", \n",
    "    interval=\"1h\"\n",
    ")"
   ]
  },
  {
   "cell_type": "code",
   "execution_count": 3,
   "metadata": {},
   "outputs": [
    {
     "data": {
      "text/html": [
       "<div>\n",
       "<style scoped>\n",
       "    .dataframe tbody tr th:only-of-type {\n",
       "        vertical-align: middle;\n",
       "    }\n",
       "\n",
       "    .dataframe tbody tr th {\n",
       "        vertical-align: top;\n",
       "    }\n",
       "\n",
       "    .dataframe thead th {\n",
       "        text-align: right;\n",
       "    }\n",
       "</style>\n",
       "<table border=\"1\" class=\"dataframe\">\n",
       "  <thead>\n",
       "    <tr style=\"text-align: right;\">\n",
       "      <th></th>\n",
       "      <th>exchange</th>\n",
       "      <th>timeframe</th>\n",
       "      <th>pair</th>\n",
       "      <th>occurences</th>\n",
       "      <th>start_date</th>\n",
       "      <th>end_date</th>\n",
       "    </tr>\n",
       "  </thead>\n",
       "  <tbody>\n",
       "    <tr>\n",
       "      <th>0</th>\n",
       "      <td>binance</td>\n",
       "      <td>1h</td>\n",
       "      <td>AAVE-USDT</td>\n",
       "      <td>20800</td>\n",
       "      <td>2020-10-15 05:00:00</td>\n",
       "      <td>2023-03-01 14:00:00</td>\n",
       "    </tr>\n",
       "    <tr>\n",
       "      <th>1</th>\n",
       "      <td>binance</td>\n",
       "      <td>1h</td>\n",
       "      <td>ADA-USDT</td>\n",
       "      <td>42619</td>\n",
       "      <td>2018-04-17 06:00:00</td>\n",
       "      <td>2023-03-01 14:00:00</td>\n",
       "    </tr>\n",
       "    <tr>\n",
       "      <th>2</th>\n",
       "      <td>binance</td>\n",
       "      <td>1h</td>\n",
       "      <td>APE-USDT</td>\n",
       "      <td>8376</td>\n",
       "      <td>2022-03-17 15:00:00</td>\n",
       "      <td>2023-03-01 14:00:00</td>\n",
       "    </tr>\n",
       "    <tr>\n",
       "      <th>3</th>\n",
       "      <td>binance</td>\n",
       "      <td>1h</td>\n",
       "      <td>ATOM-USDT</td>\n",
       "      <td>33605</td>\n",
       "      <td>2019-04-29 06:00:00</td>\n",
       "      <td>2023-03-01 14:00:00</td>\n",
       "    </tr>\n",
       "    <tr>\n",
       "      <th>4</th>\n",
       "      <td>binance</td>\n",
       "      <td>1h</td>\n",
       "      <td>AVAX-USDT</td>\n",
       "      <td>21349</td>\n",
       "      <td>2020-09-22 08:00:00</td>\n",
       "      <td>2023-03-01 14:00:00</td>\n",
       "    </tr>\n",
       "    <tr>\n",
       "      <th>5</th>\n",
       "      <td>binance</td>\n",
       "      <td>1h</td>\n",
       "      <td>AXS-USDT</td>\n",
       "      <td>20310</td>\n",
       "      <td>2020-11-04 14:00:00</td>\n",
       "      <td>2023-03-01 14:00:00</td>\n",
       "    </tr>\n",
       "    <tr>\n",
       "      <th>6</th>\n",
       "      <td>binance</td>\n",
       "      <td>1h</td>\n",
       "      <td>BCH-USDT</td>\n",
       "      <td>28509</td>\n",
       "      <td>2019-11-28 11:00:00</td>\n",
       "      <td>2023-03-01 14:00:00</td>\n",
       "    </tr>\n",
       "    <tr>\n",
       "      <th>7</th>\n",
       "      <td>binance</td>\n",
       "      <td>1h</td>\n",
       "      <td>BNB-USDT</td>\n",
       "      <td>46476</td>\n",
       "      <td>2017-11-06 04:00:00</td>\n",
       "      <td>2023-03-01 14:00:00</td>\n",
       "    </tr>\n",
       "    <tr>\n",
       "      <th>8</th>\n",
       "      <td>binance</td>\n",
       "      <td>1h</td>\n",
       "      <td>BTC-USDT</td>\n",
       "      <td>48413</td>\n",
       "      <td>2017-08-17 06:00:00</td>\n",
       "      <td>2023-03-01 14:00:00</td>\n",
       "    </tr>\n",
       "    <tr>\n",
       "      <th>9</th>\n",
       "      <td>binance</td>\n",
       "      <td>1h</td>\n",
       "      <td>CAKE-USDT</td>\n",
       "      <td>17756</td>\n",
       "      <td>2021-02-19 07:00:00</td>\n",
       "      <td>2023-03-01 14:00:00</td>\n",
       "    </tr>\n",
       "    <tr>\n",
       "      <th>10</th>\n",
       "      <td>binance</td>\n",
       "      <td>1h</td>\n",
       "      <td>CHZ-USDT</td>\n",
       "      <td>30503</td>\n",
       "      <td>2019-09-06 06:00:00</td>\n",
       "      <td>2023-03-01 14:00:00</td>\n",
       "    </tr>\n",
       "    <tr>\n",
       "      <th>11</th>\n",
       "      <td>binance</td>\n",
       "      <td>1h</td>\n",
       "      <td>DOGE-USDT</td>\n",
       "      <td>31999</td>\n",
       "      <td>2019-07-05 14:00:00</td>\n",
       "      <td>2023-03-01 14:00:00</td>\n",
       "    </tr>\n",
       "    <tr>\n",
       "      <th>12</th>\n",
       "      <td>binance</td>\n",
       "      <td>1h</td>\n",
       "      <td>DOT-USDT</td>\n",
       "      <td>22172</td>\n",
       "      <td>2020-08-19 01:00:00</td>\n",
       "      <td>2023-03-01 14:00:00</td>\n",
       "    </tr>\n",
       "    <tr>\n",
       "      <th>13</th>\n",
       "      <td>binance</td>\n",
       "      <td>1h</td>\n",
       "      <td>EGLD-USDT</td>\n",
       "      <td>21808</td>\n",
       "      <td>2020-09-03 05:00:00</td>\n",
       "      <td>2023-03-01 14:00:00</td>\n",
       "    </tr>\n",
       "    <tr>\n",
       "      <th>14</th>\n",
       "      <td>binance</td>\n",
       "      <td>1h</td>\n",
       "      <td>EOS-USDT</td>\n",
       "      <td>41634</td>\n",
       "      <td>2018-05-28 07:00:00</td>\n",
       "      <td>2023-03-01 14:00:00</td>\n",
       "    </tr>\n",
       "    <tr>\n",
       "      <th>15</th>\n",
       "      <td>binance</td>\n",
       "      <td>1h</td>\n",
       "      <td>ETC-USDT</td>\n",
       "      <td>41277</td>\n",
       "      <td>2018-06-12 04:00:00</td>\n",
       "      <td>2023-03-01 14:00:00</td>\n",
       "    </tr>\n",
       "    <tr>\n",
       "      <th>16</th>\n",
       "      <td>binance</td>\n",
       "      <td>1h</td>\n",
       "      <td>ETH-USDT</td>\n",
       "      <td>48413</td>\n",
       "      <td>2017-08-17 06:00:00</td>\n",
       "      <td>2023-03-01 14:00:00</td>\n",
       "    </tr>\n",
       "    <tr>\n",
       "      <th>17</th>\n",
       "      <td>binance</td>\n",
       "      <td>1h</td>\n",
       "      <td>FIL-USDT</td>\n",
       "      <td>20786</td>\n",
       "      <td>2020-10-15 19:00:00</td>\n",
       "      <td>2023-03-01 14:00:00</td>\n",
       "    </tr>\n",
       "    <tr>\n",
       "      <th>18</th>\n",
       "      <td>binance</td>\n",
       "      <td>1h</td>\n",
       "      <td>FTM-USDT</td>\n",
       "      <td>32583</td>\n",
       "      <td>2019-06-11 06:00:00</td>\n",
       "      <td>2023-03-01 14:00:00</td>\n",
       "    </tr>\n",
       "    <tr>\n",
       "      <th>19</th>\n",
       "      <td>binance</td>\n",
       "      <td>1h</td>\n",
       "      <td>GRT-USDT</td>\n",
       "      <td>19272</td>\n",
       "      <td>2020-12-17 21:00:00</td>\n",
       "      <td>2023-03-01 14:00:00</td>\n",
       "    </tr>\n",
       "    <tr>\n",
       "      <th>20</th>\n",
       "      <td>binance</td>\n",
       "      <td>1h</td>\n",
       "      <td>LINK-USDT</td>\n",
       "      <td>36065</td>\n",
       "      <td>2019-01-16 11:00:00</td>\n",
       "      <td>2023-03-01 14:00:00</td>\n",
       "    </tr>\n",
       "    <tr>\n",
       "      <th>21</th>\n",
       "      <td>binance</td>\n",
       "      <td>1h</td>\n",
       "      <td>LTC-USDT</td>\n",
       "      <td>45586</td>\n",
       "      <td>2017-12-13 04:00:00</td>\n",
       "      <td>2023-03-01 14:00:00</td>\n",
       "    </tr>\n",
       "    <tr>\n",
       "      <th>22</th>\n",
       "      <td>binance</td>\n",
       "      <td>1h</td>\n",
       "      <td>MANA-USDT</td>\n",
       "      <td>22473</td>\n",
       "      <td>2020-08-06 12:00:00</td>\n",
       "      <td>2023-03-01 14:00:00</td>\n",
       "    </tr>\n",
       "    <tr>\n",
       "      <th>23</th>\n",
       "      <td>binance</td>\n",
       "      <td>1h</td>\n",
       "      <td>MATIC-USDT</td>\n",
       "      <td>33666</td>\n",
       "      <td>2019-04-26 17:00:00</td>\n",
       "      <td>2023-03-01 14:00:00</td>\n",
       "    </tr>\n",
       "    <tr>\n",
       "      <th>24</th>\n",
       "      <td>binance</td>\n",
       "      <td>1h</td>\n",
       "      <td>MKR-USDT</td>\n",
       "      <td>22805</td>\n",
       "      <td>2020-07-23 16:00:00</td>\n",
       "      <td>2023-03-01 14:00:00</td>\n",
       "    </tr>\n",
       "    <tr>\n",
       "      <th>25</th>\n",
       "      <td>binance</td>\n",
       "      <td>1h</td>\n",
       "      <td>SAND-USDT</td>\n",
       "      <td>22278</td>\n",
       "      <td>2020-08-14 15:00:00</td>\n",
       "      <td>2023-03-01 14:00:00</td>\n",
       "    </tr>\n",
       "    <tr>\n",
       "      <th>26</th>\n",
       "      <td>binance</td>\n",
       "      <td>1h</td>\n",
       "      <td>SHIB-USDT</td>\n",
       "      <td>15837</td>\n",
       "      <td>2021-05-10 13:00:00</td>\n",
       "      <td>2023-03-01 14:00:00</td>\n",
       "    </tr>\n",
       "    <tr>\n",
       "      <th>27</th>\n",
       "      <td>binance</td>\n",
       "      <td>1h</td>\n",
       "      <td>SOL-USDT</td>\n",
       "      <td>22359</td>\n",
       "      <td>2020-08-11 08:00:00</td>\n",
       "      <td>2023-03-01 14:00:00</td>\n",
       "    </tr>\n",
       "    <tr>\n",
       "      <th>28</th>\n",
       "      <td>binance</td>\n",
       "      <td>1h</td>\n",
       "      <td>TRX-USDT</td>\n",
       "      <td>41292</td>\n",
       "      <td>2018-06-11 13:00:00</td>\n",
       "      <td>2023-03-01 14:00:00</td>\n",
       "    </tr>\n",
       "    <tr>\n",
       "      <th>29</th>\n",
       "      <td>binance</td>\n",
       "      <td>1h</td>\n",
       "      <td>VET-USDT</td>\n",
       "      <td>40261</td>\n",
       "      <td>2018-07-25 06:00:00</td>\n",
       "      <td>2023-03-01 14:00:00</td>\n",
       "    </tr>\n",
       "    <tr>\n",
       "      <th>30</th>\n",
       "      <td>binance</td>\n",
       "      <td>1h</td>\n",
       "      <td>XRP-USDT</td>\n",
       "      <td>42209</td>\n",
       "      <td>2018-05-04 10:00:00</td>\n",
       "      <td>2023-03-01 14:00:00</td>\n",
       "    </tr>\n",
       "  </tbody>\n",
       "</table>\n",
       "</div>"
      ],
      "text/plain": [
       "   exchange timeframe        pair  occurences           start_date  \\\n",
       "0   binance        1h   AAVE-USDT       20800  2020-10-15 05:00:00   \n",
       "1   binance        1h    ADA-USDT       42619  2018-04-17 06:00:00   \n",
       "2   binance        1h    APE-USDT        8376  2022-03-17 15:00:00   \n",
       "3   binance        1h   ATOM-USDT       33605  2019-04-29 06:00:00   \n",
       "4   binance        1h   AVAX-USDT       21349  2020-09-22 08:00:00   \n",
       "5   binance        1h    AXS-USDT       20310  2020-11-04 14:00:00   \n",
       "6   binance        1h    BCH-USDT       28509  2019-11-28 11:00:00   \n",
       "7   binance        1h    BNB-USDT       46476  2017-11-06 04:00:00   \n",
       "8   binance        1h    BTC-USDT       48413  2017-08-17 06:00:00   \n",
       "9   binance        1h   CAKE-USDT       17756  2021-02-19 07:00:00   \n",
       "10  binance        1h    CHZ-USDT       30503  2019-09-06 06:00:00   \n",
       "11  binance        1h   DOGE-USDT       31999  2019-07-05 14:00:00   \n",
       "12  binance        1h    DOT-USDT       22172  2020-08-19 01:00:00   \n",
       "13  binance        1h   EGLD-USDT       21808  2020-09-03 05:00:00   \n",
       "14  binance        1h    EOS-USDT       41634  2018-05-28 07:00:00   \n",
       "15  binance        1h    ETC-USDT       41277  2018-06-12 04:00:00   \n",
       "16  binance        1h    ETH-USDT       48413  2017-08-17 06:00:00   \n",
       "17  binance        1h    FIL-USDT       20786  2020-10-15 19:00:00   \n",
       "18  binance        1h    FTM-USDT       32583  2019-06-11 06:00:00   \n",
       "19  binance        1h    GRT-USDT       19272  2020-12-17 21:00:00   \n",
       "20  binance        1h   LINK-USDT       36065  2019-01-16 11:00:00   \n",
       "21  binance        1h    LTC-USDT       45586  2017-12-13 04:00:00   \n",
       "22  binance        1h   MANA-USDT       22473  2020-08-06 12:00:00   \n",
       "23  binance        1h  MATIC-USDT       33666  2019-04-26 17:00:00   \n",
       "24  binance        1h    MKR-USDT       22805  2020-07-23 16:00:00   \n",
       "25  binance        1h   SAND-USDT       22278  2020-08-14 15:00:00   \n",
       "26  binance        1h   SHIB-USDT       15837  2021-05-10 13:00:00   \n",
       "27  binance        1h    SOL-USDT       22359  2020-08-11 08:00:00   \n",
       "28  binance        1h    TRX-USDT       41292  2018-06-11 13:00:00   \n",
       "29  binance        1h    VET-USDT       40261  2018-07-25 06:00:00   \n",
       "30  binance        1h    XRP-USDT       42209  2018-05-04 10:00:00   \n",
       "\n",
       "               end_date  \n",
       "0   2023-03-01 14:00:00  \n",
       "1   2023-03-01 14:00:00  \n",
       "2   2023-03-01 14:00:00  \n",
       "3   2023-03-01 14:00:00  \n",
       "4   2023-03-01 14:00:00  \n",
       "5   2023-03-01 14:00:00  \n",
       "6   2023-03-01 14:00:00  \n",
       "7   2023-03-01 14:00:00  \n",
       "8   2023-03-01 14:00:00  \n",
       "9   2023-03-01 14:00:00  \n",
       "10  2023-03-01 14:00:00  \n",
       "11  2023-03-01 14:00:00  \n",
       "12  2023-03-01 14:00:00  \n",
       "13  2023-03-01 14:00:00  \n",
       "14  2023-03-01 14:00:00  \n",
       "15  2023-03-01 14:00:00  \n",
       "16  2023-03-01 14:00:00  \n",
       "17  2023-03-01 14:00:00  \n",
       "18  2023-03-01 14:00:00  \n",
       "19  2023-03-01 14:00:00  \n",
       "20  2023-03-01 14:00:00  \n",
       "21  2023-03-01 14:00:00  \n",
       "22  2023-03-01 14:00:00  \n",
       "23  2023-03-01 14:00:00  \n",
       "24  2023-03-01 14:00:00  \n",
       "25  2023-03-01 14:00:00  \n",
       "26  2023-03-01 14:00:00  \n",
       "27  2023-03-01 14:00:00  \n",
       "28  2023-03-01 14:00:00  \n",
       "29  2023-03-01 14:00:00  \n",
       "30  2023-03-01 14:00:00  "
      ]
     },
     "execution_count": 3,
     "metadata": {},
     "output_type": "execute_result"
    }
   ],
   "source": [
    "exchange.explore_data()"
   ]
  }
 ],
 "metadata": {
  "kernelspec": {
   "display_name": "Python 3.10.2 ('.venv': venv)",
   "language": "python",
   "name": "python3"
  },
  "language_info": {
   "codemirror_mode": {
    "name": "ipython",
    "version": 3
   },
   "file_extension": ".py",
   "mimetype": "text/x-python",
   "name": "python",
   "nbconvert_exporter": "python",
   "pygments_lexer": "ipython3",
   "version": "3.11.8"
  },
  "vscode": {
   "interpreter": {
    "hash": "d5100c10c6b669a578e86ed43dbb636d25e3c9fb9ee424ec9e5e4bad34e2e434"
   }
  }
 },
 "nbformat": 4,
 "nbformat_minor": 2
}
